{
 "cells": [
  {
   "cell_type": "markdown",
   "id": "aeb5f247-9d19-48d4-9683-62d0b4c139f3",
   "metadata": {},
   "source": [
    "Анализ качества вина с помощью линейной регрессии"
   ]
  },
  {
   "cell_type": "markdown",
   "id": "939914ac-7013-4198-ae90-0f298baebc54",
   "metadata": {},
   "source": [
    "1. Загрузка библиотек и данных"
   ]
  },
  {
   "cell_type": "code",
   "execution_count": 4,
   "id": "81539b3e-9e2b-4bf9-9198-49016d6e4fd5",
   "metadata": {},
   "outputs": [
    {
     "name": "stdout",
     "output_type": "stream",
     "text": [
      "Первые 5 строк датасета:\n"
     ]
    },
    {
     "data": {
      "text/html": [
       "<div>\n",
       "<style scoped>\n",
       "    .dataframe tbody tr th:only-of-type {\n",
       "        vertical-align: middle;\n",
       "    }\n",
       "\n",
       "    .dataframe tbody tr th {\n",
       "        vertical-align: top;\n",
       "    }\n",
       "\n",
       "    .dataframe thead th {\n",
       "        text-align: right;\n",
       "    }\n",
       "</style>\n",
       "<table border=\"1\" class=\"dataframe\">\n",
       "  <thead>\n",
       "    <tr style=\"text-align: right;\">\n",
       "      <th></th>\n",
       "      <th>fixed acidity</th>\n",
       "      <th>volatile acidity</th>\n",
       "      <th>citric acid</th>\n",
       "      <th>residual sugar</th>\n",
       "      <th>chlorides</th>\n",
       "      <th>free sulfur dioxide</th>\n",
       "      <th>total sulfur dioxide</th>\n",
       "      <th>density</th>\n",
       "      <th>pH</th>\n",
       "      <th>sulphates</th>\n",
       "      <th>alcohol</th>\n",
       "      <th>quality</th>\n",
       "    </tr>\n",
       "  </thead>\n",
       "  <tbody>\n",
       "    <tr>\n",
       "      <th>0</th>\n",
       "      <td>7.4</td>\n",
       "      <td>0.70</td>\n",
       "      <td>0.00</td>\n",
       "      <td>1.9</td>\n",
       "      <td>0.076</td>\n",
       "      <td>11.0</td>\n",
       "      <td>34.0</td>\n",
       "      <td>0.9978</td>\n",
       "      <td>3.51</td>\n",
       "      <td>0.56</td>\n",
       "      <td>9.4</td>\n",
       "      <td>5</td>\n",
       "    </tr>\n",
       "    <tr>\n",
       "      <th>1</th>\n",
       "      <td>7.8</td>\n",
       "      <td>0.88</td>\n",
       "      <td>0.00</td>\n",
       "      <td>2.6</td>\n",
       "      <td>0.098</td>\n",
       "      <td>25.0</td>\n",
       "      <td>67.0</td>\n",
       "      <td>0.9968</td>\n",
       "      <td>3.20</td>\n",
       "      <td>0.68</td>\n",
       "      <td>9.8</td>\n",
       "      <td>5</td>\n",
       "    </tr>\n",
       "    <tr>\n",
       "      <th>2</th>\n",
       "      <td>7.8</td>\n",
       "      <td>0.76</td>\n",
       "      <td>0.04</td>\n",
       "      <td>2.3</td>\n",
       "      <td>0.092</td>\n",
       "      <td>15.0</td>\n",
       "      <td>54.0</td>\n",
       "      <td>0.9970</td>\n",
       "      <td>3.26</td>\n",
       "      <td>0.65</td>\n",
       "      <td>9.8</td>\n",
       "      <td>5</td>\n",
       "    </tr>\n",
       "    <tr>\n",
       "      <th>3</th>\n",
       "      <td>11.2</td>\n",
       "      <td>0.28</td>\n",
       "      <td>0.56</td>\n",
       "      <td>1.9</td>\n",
       "      <td>0.075</td>\n",
       "      <td>17.0</td>\n",
       "      <td>60.0</td>\n",
       "      <td>0.9980</td>\n",
       "      <td>3.16</td>\n",
       "      <td>0.58</td>\n",
       "      <td>9.8</td>\n",
       "      <td>6</td>\n",
       "    </tr>\n",
       "    <tr>\n",
       "      <th>4</th>\n",
       "      <td>7.4</td>\n",
       "      <td>0.70</td>\n",
       "      <td>0.00</td>\n",
       "      <td>1.9</td>\n",
       "      <td>0.076</td>\n",
       "      <td>11.0</td>\n",
       "      <td>34.0</td>\n",
       "      <td>0.9978</td>\n",
       "      <td>3.51</td>\n",
       "      <td>0.56</td>\n",
       "      <td>9.4</td>\n",
       "      <td>5</td>\n",
       "    </tr>\n",
       "  </tbody>\n",
       "</table>\n",
       "</div>"
      ],
      "text/plain": [
       "   fixed acidity  volatile acidity  citric acid  residual sugar  chlorides  \\\n",
       "0            7.4              0.70         0.00             1.9      0.076   \n",
       "1            7.8              0.88         0.00             2.6      0.098   \n",
       "2            7.8              0.76         0.04             2.3      0.092   \n",
       "3           11.2              0.28         0.56             1.9      0.075   \n",
       "4            7.4              0.70         0.00             1.9      0.076   \n",
       "\n",
       "   free sulfur dioxide  total sulfur dioxide  density    pH  sulphates  \\\n",
       "0                 11.0                  34.0   0.9978  3.51       0.56   \n",
       "1                 25.0                  67.0   0.9968  3.20       0.68   \n",
       "2                 15.0                  54.0   0.9970  3.26       0.65   \n",
       "3                 17.0                  60.0   0.9980  3.16       0.58   \n",
       "4                 11.0                  34.0   0.9978  3.51       0.56   \n",
       "\n",
       "   alcohol  quality  \n",
       "0      9.4        5  \n",
       "1      9.8        5  \n",
       "2      9.8        5  \n",
       "3      9.8        6  \n",
       "4      9.4        5  "
      ]
     },
     "execution_count": 4,
     "metadata": {},
     "output_type": "execute_result"
    }
   ],
   "source": [
    "#Загрузка библиотек\n",
    "import pandas as pd\n",
    "import numpy as np\n",
    "import matplotlib.pyplot as plt\n",
    "import seaborn as sns\n",
    "from sklearn.linear_model import LinearRegression\n",
    "from sklearn.model_selection import train_test_split\n",
    "from sklearn.metrics import mean_squared_error, r2_score\n",
    "#Загрузка данных\n",
    "data = pd.read_csv('winequality-red.csv', sep=';')\n",
    "print(\"Первые 5 строк датасета:\")\n",
    "data.head()"
   ]
  },
  {
   "cell_type": "markdown",
   "id": "e03295f4-23d8-410c-a594-99e924c11587",
   "metadata": {},
   "source": [
    "2. Предобработка данных"
   ]
  },
  {
   "cell_type": "code",
   "execution_count": 8,
   "id": "f86c1ec2-95ba-49c6-a829-776a2f79757f",
   "metadata": {
    "scrolled": true
   },
   "outputs": [
    {
     "name": "stdout",
     "output_type": "stream",
     "text": [
      "Пропуски в данных:\n"
     ]
    },
    {
     "data": {
      "text/plain": [
       "fixed acidity           0\n",
       "volatile acidity        0\n",
       "citric acid             0\n",
       "residual sugar          0\n",
       "chlorides               0\n",
       "free sulfur dioxide     0\n",
       "total sulfur dioxide    0\n",
       "density                 0\n",
       "pH                      0\n",
       "sulphates               0\n",
       "alcohol                 0\n",
       "quality                 0\n",
       "dtype: int64"
      ]
     },
     "execution_count": 8,
     "metadata": {},
     "output_type": "execute_result"
    }
   ],
   "source": [
    "#Проверка на пропуски:\n",
    "print(\"Пропуски в данных:\")\n",
    "data.isnull().sum()"
   ]
  },
  {
   "cell_type": "code",
   "execution_count": 29,
   "id": "2b9427c6-7004-4d83-8b3a-52a8bfe675cd",
   "metadata": {},
   "outputs": [
    {
     "data": {
      "text/plain": [
       "count    1599.000000\n",
       "mean        5.636023\n",
       "std         0.807569\n",
       "min         3.000000\n",
       "25%         5.000000\n",
       "50%         6.000000\n",
       "75%         6.000000\n",
       "max         8.000000\n",
       "Name: quality, dtype: float64"
      ]
     },
     "execution_count": 29,
     "metadata": {},
     "output_type": "execute_result"
    }
   ],
   "source": [
    "data['quality'].describe()"
   ]
  },
  {
   "cell_type": "markdown",
   "id": "c74ff8be-c496-4058-aec3-fd6d564da5bc",
   "metadata": {},
   "source": [
    "Значения качества вина по 10-балльной шкале находятся в отрезке от 3 до 8"
   ]
  },
  {
   "cell_type": "code",
   "execution_count": 37,
   "id": "526a6ac4-8530-4284-8501-eb7252d3e9ac",
   "metadata": {},
   "outputs": [
    {
     "name": "stdout",
     "output_type": "stream",
     "text": [
      "Корреляция признаков с качеством вина:\n"
     ]
    },
    {
     "data": {
      "text/plain": [
       "<Axes: >"
      ]
     },
     "execution_count": 37,
     "metadata": {},
     "output_type": "execute_result"
    },
    {
     "data": {
      "image/png": "[encoded data removed]",
      "text/plain": [
       "<Figure size 640x480 with 2 Axes>"
      ]
     },
     "metadata": {},
     "output_type": "display_data"
    }
   ],
   "source": [
    "#График корреляций всех признаков с качеством(целевой переменной quality)\n",
    "corr = data.corr()\n",
    "print(\"Корреляция признаков с качеством вина:\")\n",
    "sns.heatmap(data.corr()[['quality']].sort_values('quality'), annot=True)"
   ]
  },
  {
   "cell_type": "code",
   "execution_count": 72,
   "id": "52fa8ffc-7502-428b-8bef-aca030f28bf2",
   "metadata": {},
   "outputs": [],
   "source": [
    "#Выбираем наиболее значимые признаки\n",
    "features = ['alcohol' , 'sulphates' , 'citric acid' , 'volatile acidity', 'total sulfur dioxide','pH']\n",
    "X = data[features]\n",
    "Y = data['quality']"
   ]
  },
  {
   "cell_type": "markdown",
   "id": "d21381d2-e929-49ac-8ddf-bc9559c0aeb0",
   "metadata": {},
   "source": [
    "Выбор pH обоснован химией вина, и улучшением метрик"
   ]
  },
  {
   "cell_type": "markdown",
   "id": "c5937554-2e57-4919-a239-3ae8eee00031",
   "metadata": {},
   "source": [
    "3. Обучение модели"
   ]
  },
  {
   "cell_type": "code",
   "execution_count": 73,
   "id": "53916a3d-4f60-45fa-a107-180c1172c138",
   "metadata": {},
   "outputs": [],
   "source": [
    "#Разделение данных на обучающие и тестовые\n",
    "X_train, X_test, Y_train, Y_test = train_test_split(X, Y, test_size=0.2, random_state=42)\n",
    "#Создание модели линейной регрессии и обучение\n",
    "model = LinearRegression()\n",
    "model.fit(X_train, Y_train)\n",
    "#Предсказание на тестовых данных\n",
    "Y_pred = model.predict(X_test)"
   ]
  },
  {
   "cell_type": "markdown",
   "id": "afa32fb7-db11-4a80-a8f6-7e5e7b0ba501",
   "metadata": {},
   "source": [
    "4. Оценка модели"
   ]
  },
  {
   "cell_type": "code",
   "execution_count": 74,
   "id": "4bb5cfd3-8008-4720-9a50-b337f8885395",
   "metadata": {},
   "outputs": [
    {
     "name": "stdout",
     "output_type": "stream",
     "text": [
      "MSE: 0.39\n",
      "R^2: 0.40\n"
     ]
    }
   ],
   "source": [
    "#Метрики\n",
    "mse = mean_squared_error(Y_test, Y_pred)\n",
    "r2 = r2_score(Y_test, Y_pred)\n",
    "print(f\"MSE: {mse:.2f}\")\n",
    "print(f\"R^2: {r2:.2f}\")"
   ]
  },
  {
   "cell_type": "code",
   "execution_count": 75,
   "id": "5b8e7bff-78e1-4274-a396-fa41ed69bace",
   "metadata": {},
   "outputs": [
    {
     "name": "stdout",
     "output_type": "stream",
     "text": [
      "MSE базовой модели (среднее значение): 0.66\n"
     ]
    }
   ],
   "source": [
    "from sklearn.dummy import DummyRegressor\n",
    "dummy = DummyRegressor(strategy=\"mean\").fit(X_train, Y_train)\n",
    "Y_dummy = dummy.predict(X_test)\n",
    "dummy_mse = mean_squared_error(Y_test, Y_dummy)\n",
    "print(f\"MSE базовой модели (среднее значение): {dummy_mse:.2f}\")"
   ]
  },
  {
   "cell_type": "code",
   "execution_count": 84,
   "id": "82ea37dd-dbe8-4054-9a8f-b5a7895f8a89",
   "metadata": {},
   "outputs": [
    {
     "data": {
      "image/png": "[encoded data removed]",
      "text/plain": [
       "<Figure size 1000x600 with 1 Axes>"
      ]
     },
     "metadata": {},
     "output_type": "display_data"
    }
   ],
   "source": [
    "#График предсказаний и реальных значений\n",
    "plt.figure(figsize=(10, 6))\n",
    "plt.scatter(Y_test, Y_pred, alpha=0.4)\n",
    "plt.xlabel(\"Реальные значения\")\n",
    "plt.ylabel(\"Предсказанные значения\")\n",
    "plt.title(\"Качество вина: реальные и предсказанные значения\")\n",
    "plt.plot([3, 8], [3, 8], color='red')  #Идеальный результат\n",
    "plt.show()"
   ]
  },
  {
   "cell_type": "markdown",
   "id": "6c437d88-f9b1-4f9e-b1ad-4a254ba16d73",
   "metadata": {},
   "source": [
    "5. Интерпритация коэффицентов"
   ]
  },
  {
   "cell_type": "code",
   "execution_count": 85,
   "id": "4aa5c675-274a-4035-bb84-c7041f610f8e",
   "metadata": {},
   "outputs": [
    {
     "name": "stdout",
     "output_type": "stream",
     "text": [
      "Влияние признаков на качество вина:\n"
     ]
    },
    {
     "data": {
      "text/html": [
       "<div>\n",
       "<style scoped>\n",
       "    .dataframe tbody tr th:only-of-type {\n",
       "        vertical-align: middle;\n",
       "    }\n",
       "\n",
       "    .dataframe tbody tr th {\n",
       "        vertical-align: top;\n",
       "    }\n",
       "\n",
       "    .dataframe thead th {\n",
       "        text-align: right;\n",
       "    }\n",
       "</style>\n",
       "<table border=\"1\" class=\"dataframe\">\n",
       "  <thead>\n",
       "    <tr style=\"text-align: right;\">\n",
       "      <th></th>\n",
       "      <th>Признак</th>\n",
       "      <th>Коэффициент</th>\n",
       "    </tr>\n",
       "  </thead>\n",
       "  <tbody>\n",
       "    <tr>\n",
       "      <th>0</th>\n",
       "      <td>alcohol</td>\n",
       "      <td>0.311703</td>\n",
       "    </tr>\n",
       "    <tr>\n",
       "      <th>1</th>\n",
       "      <td>sulphates</td>\n",
       "      <td>0.638251</td>\n",
       "    </tr>\n",
       "    <tr>\n",
       "      <th>2</th>\n",
       "      <td>citric acid</td>\n",
       "      <td>-0.224859</td>\n",
       "    </tr>\n",
       "    <tr>\n",
       "      <th>3</th>\n",
       "      <td>volatile acidity</td>\n",
       "      <td>-1.167727</td>\n",
       "    </tr>\n",
       "    <tr>\n",
       "      <th>4</th>\n",
       "      <td>total sulfur dioxide</td>\n",
       "      <td>-0.002378</td>\n",
       "    </tr>\n",
       "    <tr>\n",
       "      <th>5</th>\n",
       "      <td>pH</td>\n",
       "      <td>-0.440142</td>\n",
       "    </tr>\n",
       "  </tbody>\n",
       "</table>\n",
       "</div>"
      ],
      "text/plain": [
       "                Признак  Коэффициент\n",
       "0               alcohol     0.311703\n",
       "1             sulphates     0.638251\n",
       "2           citric acid    -0.224859\n",
       "3      volatile acidity    -1.167727\n",
       "4  total sulfur dioxide    -0.002378\n",
       "5                    pH    -0.440142"
      ]
     },
     "execution_count": 85,
     "metadata": {},
     "output_type": "execute_result"
    }
   ],
   "source": [
    "#Таблица коэффициентов\n",
    "coefficients = pd.DataFrame({\n",
    "    'Признак': features,\n",
    "    'Коэффициент': model.coef_\n",
    "})\n",
    "print(\"Влияние признаков на качество вина:\")\n",
    "coefficients"
   ]
  },
  {
   "cell_type": "markdown",
   "id": "99420f0f-21f7-4c83-b2ef-743d0ea9f91b",
   "metadata": {},
   "source": [
    "#### Выводы:\n",
    "- Алкоголь и сульфаты положительно влияют на оценку\n",
    "- Кислотность и pH снижают оценку\n",
    "- Модель объясняет ~40% дисперсии(R^2=0.40)\n",
    "- Предсказание по сравнению с базовой моделью (среднее значение) улучшено на 40.9% (MSE = 0.39 , MSE базовой модели = 0.66)"
   ]
  },
  {
   "cell_type": "code",
   "execution_count": 86,
   "id": "60c5807e-3dba-404e-840e-873d4ba15e21",
   "metadata": {},
   "outputs": [
    {
     "name": "stdout",
     "output_type": "stream",
     "text": [
      "Предсказанное качество вина: 6.5 из 10\n"
     ]
    }
   ],
   "source": [
    "#Данные нового вина (значения в том же порядке, что и в X_train)\n",
    "new_wine = {\n",
    "    'alcohol': [12.5],\n",
    "    'sulphates': [0.66],\n",
    "    'citric acid': [0.03],\n",
    "    'volatile acidity': [0.4],\n",
    "    'total sulfur dioxide': [46.0],\n",
    "    'pH': [3.2],\n",
    "}\n",
    "#Преобразуем в DataFrame\n",
    "new_data = pd.DataFrame(new_wine)\n",
    "predicted_quality = model.predict(new_data)\n",
    "print(f\"Предсказанное качество вина: {predicted_quality[0]:.1f} из 10\")"
   ]
  }
 ],
 "metadata": {
  "kernelspec": {
   "display_name": "Python 3 (ipykernel)",
   "language": "python",
   "name": "python3"
  },
  "language_info": {
   "codemirror_mode": {
    "name": "ipython",
    "version": 3
   },
   "file_extension": ".py",
   "mimetype": "text/x-python",
   "name": "python",
   "nbconvert_exporter": "python",
   "pygments_lexer": "ipython3",
   "version": "3.11.9"
  }
 },
 "nbformat": 4,
 "nbformat_minor": 5
}
